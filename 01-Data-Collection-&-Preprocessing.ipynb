{
 "cells": [
  {
   "cell_type": "markdown",
   "metadata": {},
   "source": [
    "# Data Collection & Preprocessing \n",
    "\n",
    "The code in this notebook is for the use of scaping the latest comment titles and body from a specific subreddit, converting to a dataframe, and exporting to a .csv file\n"
   ]
  },
  {
   "cell_type": "markdown",
   "metadata": {},
   "source": [
    "### Import Libaries"
   ]
  },
  {
   "cell_type": "code",
   "execution_count": 1,
   "metadata": {
    "ExecuteTime": {
     "end_time": "2020-03-14T17:50:07.344767Z",
     "start_time": "2020-03-14T17:50:06.949195Z"
    }
   },
   "outputs": [],
   "source": [
    "import pandas as pd\n",
    "import praw\n",
    "import sensitive as sens\n",
    "import db_sensitive as db_sens\n",
    "from tqdm.notebook import tqdm\n",
    "from sqlalchemy import create_engine, engine"
   ]
  },
  {
   "cell_type": "markdown",
   "metadata": {},
   "source": [
    "### Reddit API Scrape\n",
    "\n",
    "To use the below code and function you must create a reddit account [here](https://www.reddit.com/) and register for use of the API. The username and password will be from your general Reddit account while your client id, cleint secret, and user agent will be from the API token your create attached to the account."
   ]
  },
  {
   "cell_type": "code",
   "execution_count": 2,
   "metadata": {
    "ExecuteTime": {
     "end_time": "2020-03-14T17:50:07.594100Z",
     "start_time": "2020-03-14T17:50:07.587904Z"
    }
   },
   "outputs": [],
   "source": [
    "# enter your personal account info in accordingly\n",
    "reddit = praw.Reddit(\n",
    "    client_id=sens.client_id,\n",
    "    client_secret=sens.client_secret,\n",
    "    password=sens.password, \n",
    "    user_agent=sens.user_agent,\n",
    "    username=sens.username\n",
    ")"
   ]
  },
  {
   "cell_type": "markdown",
   "metadata": {},
   "source": [
    "The below function takes in the above-created praw instance, the subreddit you would like to scape as a string, and the number of latest posts you would like to collect as an integer. \n",
    "\n",
    "The output will print the number of comments successfully scaped and a dataframe with each row including the comments category, body, and title."
   ]
  },
  {
   "cell_type": "code",
   "execution_count": 3,
   "metadata": {
    "ExecuteTime": {
     "end_time": "2020-03-14T17:50:08.271471Z",
     "start_time": "2020-03-14T17:50:08.261617Z"
    }
   },
   "outputs": [],
   "source": [
    "def reddit_scraper(praw_object, sub_reddit, num_posts):\n",
    "    # create submissions object to iterate over\n",
    "    submissions = praw_object.subreddit(sub_reddit).hot(limit = num_posts)\n",
    "#     submission.comments.replace_more(limit=0) # flatten tree\n",
    "# comments = submission.comments.list()\n",
    "    \n",
    "    \n",
    "    # create list of dictionaries for easy conversion to df\n",
    "    posts = []\n",
    "    comments = []\n",
    "    for i, post in enumerate(submissions):\n",
    "        post.comments.replace_more(limit=0)\n",
    "        comms = post.comments.list()\n",
    "        posts.append({\n",
    "            'category': post.subreddit.display_name,\n",
    "            'title': post.title,\n",
    "            'body': post.selftext,\n",
    "            'sub': sub_reddit,\n",
    "            'sub_post_id': i,\n",
    "            'n_comments': len(comms)\n",
    "        })\n",
    "        for com in comms:\n",
    "            comments.append({\n",
    "                'sub_post_id': i,\n",
    "                'text': com.body,\n",
    "                'likes': com.likes,\n",
    "            })\n",
    "    \n",
    "    # show number of articles collected and out df\n",
    "    print(f'You collected {len(posts)} reddit comments about {sub_reddit}')\n",
    "    return pd.DataFrame(posts), pd.DataFrame(comments)"
   ]
  },
  {
   "cell_type": "code",
   "execution_count": 4,
   "metadata": {
    "ExecuteTime": {
     "end_time": "2020-03-14T18:00:17.308789Z",
     "start_time": "2020-03-14T17:50:08.719833Z"
    },
    "scrolled": false
   },
   "outputs": [
    {
     "data": {
      "application/vnd.jupyter.widget-view+json": {
       "model_id": "9d5e74d04fe14ee8936fb16502f35d9b",
       "version_major": 2,
       "version_minor": 0
      },
      "text/plain": [
       "HBox(children=(IntProgress(value=0, max=6), HTML(value='')))"
      ]
     },
     "metadata": {},
     "output_type": "display_data"
    },
    {
     "name": "stdout",
     "output_type": "stream",
     "text": [
      "You collected 100 reddit comments about datascience\n",
      "You collected 100 reddit comments about datasciencejobs\n",
      "You collected 100 reddit comments about machinelearning\n",
      "You collected 100 reddit comments about machinelearningjobs\n",
      "You collected 100 reddit comments about learnmachinelearning\n",
      "You collected 100 reddit comments about learndatascience\n",
      "\n"
     ]
    }
   ],
   "source": [
    "subs = ['datascience', 'datasciencejobs', 'machinelearning', \n",
    "        'machinelearningjobs', 'learnmachinelearning',\n",
    "        'learndatascience']\n",
    "scraped = {}\n",
    "for sub in tqdm(subs):\n",
    "    scraped[sub] = reddit_scraper(reddit, sub, 100)\n",
    "\n",
    "# # scape 1,000 articles on history and consipracy to model\n",
    "# history_df = reddit_scapper(reddit, 'epicseven', 1_000)\n",
    "# conspiracy_df = reddit_scapper(reddit, 'lewdseven', 1_000)"
   ]
  },
  {
   "cell_type": "code",
   "execution_count": 5,
   "metadata": {
    "ExecuteTime": {
     "end_time": "2020-03-14T18:00:17.314370Z",
     "start_time": "2020-03-14T18:00:17.310829Z"
    }
   },
   "outputs": [],
   "source": [
    "posts_l = []\n",
    "comms_l = []\n",
    "for _, tup in scraped.items():\n",
    "    posts_l.append(tup[0])\n",
    "    comms_l.append(tup[1])"
   ]
  },
  {
   "cell_type": "code",
   "execution_count": 6,
   "metadata": {
    "ExecuteTime": {
     "end_time": "2020-03-14T18:00:17.325218Z",
     "start_time": "2020-03-14T18:00:17.317658Z"
    }
   },
   "outputs": [],
   "source": [
    "posts_df = pd.concat(posts_l)\n",
    "posts_df = posts_df.reset_index(drop=True)\n",
    "comms_df = pd.concat(comms_l)\n",
    "comms_df = comms_df.reset_index(drop=True)"
   ]
  },
  {
   "cell_type": "code",
   "execution_count": 7,
   "metadata": {
    "ExecuteTime": {
     "end_time": "2020-03-14T18:01:57.528716Z",
     "start_time": "2020-03-14T18:00:17.327025Z"
    }
   },
   "outputs": [],
   "source": [
    "# database connection\n",
    "db_config = {\n",
    "    'drivername':'postgresql',\n",
    "    'host': db_sens.host,\n",
    "    'password': db_sens.password,\n",
    "    'username': db_sens.username,\n",
    "    'port': db_sens.port,\n",
    "    'database': db_sens.database,\n",
    "}\n",
    "db_engine = create_engine(engine.url.URL(**db_config))\n",
    "posts_df.to_sql('posts', db_engine, if_exists='replace')\n",
    "comms_df.to_sql('comms', db_engine, if_exists='replace')"
   ]
  },
  {
   "cell_type": "markdown",
   "metadata": {
    "ExecuteTime": {
     "end_time": "2020-03-14T17:21:57.128083Z",
     "start_time": "2020-03-14T17:21:57.122814Z"
    }
   },
   "source": [
    "# test loading back in"
   ]
  },
  {
   "cell_type": "code",
   "execution_count": 10,
   "metadata": {
    "ExecuteTime": {
     "end_time": "2020-03-14T18:03:22.683436Z",
     "start_time": "2020-03-14T18:03:21.915291Z"
    }
   },
   "outputs": [
    {
     "name": "stdout",
     "output_type": "stream",
     "text": [
      "(2589, 4)\n"
     ]
    },
    {
     "data": {
      "text/html": [
       "<div>\n",
       "<style scoped>\n",
       "    .dataframe tbody tr th:only-of-type {\n",
       "        vertical-align: middle;\n",
       "    }\n",
       "\n",
       "    .dataframe tbody tr th {\n",
       "        vertical-align: top;\n",
       "    }\n",
       "\n",
       "    .dataframe thead th {\n",
       "        text-align: right;\n",
       "    }\n",
       "</style>\n",
       "<table border=\"1\" class=\"dataframe\">\n",
       "  <thead>\n",
       "    <tr style=\"text-align: right;\">\n",
       "      <th></th>\n",
       "      <th>index</th>\n",
       "      <th>sub_post_id</th>\n",
       "      <th>text</th>\n",
       "      <th>likes</th>\n",
       "    </tr>\n",
       "  </thead>\n",
       "  <tbody>\n",
       "    <tr>\n",
       "      <th>0</th>\n",
       "      <td>0</td>\n",
       "      <td>0</td>\n",
       "      <td>Learn SQL\\n\\nI’m always aghast at how many que...</td>\n",
       "      <td>None</td>\n",
       "    </tr>\n",
       "    <tr>\n",
       "      <th>1</th>\n",
       "      <td>1</td>\n",
       "      <td>0</td>\n",
       "      <td>I'm a high school student(10th grade, 16) who'...</td>\n",
       "      <td>None</td>\n",
       "    </tr>\n",
       "    <tr>\n",
       "      <th>2</th>\n",
       "      <td>2</td>\n",
       "      <td>0</td>\n",
       "      <td>Tomorrow I am having a coffee with a Senior Da...</td>\n",
       "      <td>None</td>\n",
       "    </tr>\n",
       "    <tr>\n",
       "      <th>3</th>\n",
       "      <td>3</td>\n",
       "      <td>0</td>\n",
       "      <td>What salary range to give to a fortune 500 com...</td>\n",
       "      <td>None</td>\n",
       "    </tr>\n",
       "    <tr>\n",
       "      <th>4</th>\n",
       "      <td>4</td>\n",
       "      <td>0</td>\n",
       "      <td>Upcoming (this May) graduate with two BS degre...</td>\n",
       "      <td>None</td>\n",
       "    </tr>\n",
       "  </tbody>\n",
       "</table>\n",
       "</div>"
      ],
      "text/plain": [
       "   index  sub_post_id                                               text likes\n",
       "0      0            0  Learn SQL\\n\\nI’m always aghast at how many que...  None\n",
       "1      1            0  I'm a high school student(10th grade, 16) who'...  None\n",
       "2      2            0  Tomorrow I am having a coffee with a Senior Da...  None\n",
       "3      3            0  What salary range to give to a fortune 500 com...  None\n",
       "4      4            0  Upcoming (this May) graduate with two BS degre...  None"
      ]
     },
     "execution_count": 10,
     "metadata": {},
     "output_type": "execute_result"
    }
   ],
   "source": [
    "comms_read = pd.read_sql_table('comms', db_engine)\n",
    "print(comms_read.shape)\n",
    "comms_read.head()"
   ]
  },
  {
   "cell_type": "code",
   "execution_count": 11,
   "metadata": {
    "ExecuteTime": {
     "end_time": "2020-03-14T18:03:31.063439Z",
     "start_time": "2020-03-14T18:03:30.348304Z"
    }
   },
   "outputs": [
    {
     "name": "stdout",
     "output_type": "stream",
     "text": [
      "(600, 7)\n"
     ]
    },
    {
     "data": {
      "text/html": [
       "<div>\n",
       "<style scoped>\n",
       "    .dataframe tbody tr th:only-of-type {\n",
       "        vertical-align: middle;\n",
       "    }\n",
       "\n",
       "    .dataframe tbody tr th {\n",
       "        vertical-align: top;\n",
       "    }\n",
       "\n",
       "    .dataframe thead th {\n",
       "        text-align: right;\n",
       "    }\n",
       "</style>\n",
       "<table border=\"1\" class=\"dataframe\">\n",
       "  <thead>\n",
       "    <tr style=\"text-align: right;\">\n",
       "      <th></th>\n",
       "      <th>index</th>\n",
       "      <th>category</th>\n",
       "      <th>title</th>\n",
       "      <th>body</th>\n",
       "      <th>sub</th>\n",
       "      <th>sub_post_id</th>\n",
       "      <th>n_comments</th>\n",
       "    </tr>\n",
       "  </thead>\n",
       "  <tbody>\n",
       "    <tr>\n",
       "      <th>0</th>\n",
       "      <td>0</td>\n",
       "      <td>datascience</td>\n",
       "      <td>Weekly Entering &amp; Transitioning Thread | 08 Ma...</td>\n",
       "      <td>_Bleep Bloop_. Welcome to this week's entering...</td>\n",
       "      <td>datascience</td>\n",
       "      <td>0</td>\n",
       "      <td>86</td>\n",
       "    </tr>\n",
       "    <tr>\n",
       "      <th>1</th>\n",
       "      <td>1</td>\n",
       "      <td>datascience</td>\n",
       "      <td>Open COVID-19 Dataset</td>\n",
       "      <td>I was frustrated with the maintenance issues i...</td>\n",
       "      <td>datascience</td>\n",
       "      <td>1</td>\n",
       "      <td>13</td>\n",
       "    </tr>\n",
       "    <tr>\n",
       "      <th>2</th>\n",
       "      <td>2</td>\n",
       "      <td>datascience</td>\n",
       "      <td>Is there something like Project Euler but for ...</td>\n",
       "      <td>Hello all, I've really enjoyed solving the pro...</td>\n",
       "      <td>datascience</td>\n",
       "      <td>2</td>\n",
       "      <td>17</td>\n",
       "    </tr>\n",
       "    <tr>\n",
       "      <th>3</th>\n",
       "      <td>3</td>\n",
       "      <td>datascience</td>\n",
       "      <td>Is there a website like leetcode but for data ...</td>\n",
       "      <td>Hi as you all know leetcode is a website for s...</td>\n",
       "      <td>datascience</td>\n",
       "      <td>3</td>\n",
       "      <td>3</td>\n",
       "    </tr>\n",
       "    <tr>\n",
       "      <th>4</th>\n",
       "      <td>4</td>\n",
       "      <td>datascience</td>\n",
       "      <td>Are there laws like the three laws of robotics...</td>\n",
       "      <td>I realise the topic is complex and can easily ...</td>\n",
       "      <td>datascience</td>\n",
       "      <td>4</td>\n",
       "      <td>1</td>\n",
       "    </tr>\n",
       "  </tbody>\n",
       "</table>\n",
       "</div>"
      ],
      "text/plain": [
       "   index     category                                              title  \\\n",
       "0      0  datascience  Weekly Entering & Transitioning Thread | 08 Ma...   \n",
       "1      1  datascience                              Open COVID-19 Dataset   \n",
       "2      2  datascience  Is there something like Project Euler but for ...   \n",
       "3      3  datascience  Is there a website like leetcode but for data ...   \n",
       "4      4  datascience  Are there laws like the three laws of robotics...   \n",
       "\n",
       "                                                body          sub  \\\n",
       "0  _Bleep Bloop_. Welcome to this week's entering...  datascience   \n",
       "1  I was frustrated with the maintenance issues i...  datascience   \n",
       "2  Hello all, I've really enjoyed solving the pro...  datascience   \n",
       "3  Hi as you all know leetcode is a website for s...  datascience   \n",
       "4  I realise the topic is complex and can easily ...  datascience   \n",
       "\n",
       "   sub_post_id  n_comments  \n",
       "0            0          86  \n",
       "1            1          13  \n",
       "2            2          17  \n",
       "3            3           3  \n",
       "4            4           1  "
      ]
     },
     "execution_count": 11,
     "metadata": {},
     "output_type": "execute_result"
    }
   ],
   "source": [
    "posts_read = pd.read_sql_table('posts', db_engine)\n",
    "print(posts_read.shape)\n",
    "posts_read.head()"
   ]
  },
  {
   "cell_type": "code",
   "execution_count": null,
   "metadata": {},
   "outputs": [],
   "source": []
  }
 ],
 "metadata": {
  "kernelspec": {
   "display_name": "Python [conda env:all_ds]",
   "language": "python",
   "name": "conda-env-all_ds-py"
  },
  "language_info": {
   "codemirror_mode": {
    "name": "ipython",
    "version": 3
   },
   "file_extension": ".py",
   "mimetype": "text/x-python",
   "name": "python",
   "nbconvert_exporter": "python",
   "pygments_lexer": "ipython3",
   "version": "3.7.4"
  }
 },
 "nbformat": 4,
 "nbformat_minor": 2
}
