{
 "cells": [
  {
   "cell_type": "markdown",
   "metadata": {},
   "source": [
    "# Data Collection & Preprocessing \n",
    "\n",
    "The code in this notebook is for the use of scaping the latest comment titles and body from a specific subreddit, converting to a dataframe, and exporting to a .csv file\n"
   ]
  },
  {
   "cell_type": "markdown",
   "metadata": {},
   "source": [
    "### Import Libaries"
   ]
  },
  {
   "cell_type": "code",
   "execution_count": 1,
   "metadata": {
    "ExecuteTime": {
     "end_time": "2020-03-14T16:11:03.627340Z",
     "start_time": "2020-03-14T16:11:03.272447Z"
    }
   },
   "outputs": [],
   "source": [
    "import pandas as pd\n",
    "import praw\n",
    "import sensitive as sens\n",
    "from tqdm.notebook import tqdm"
   ]
  },
  {
   "cell_type": "markdown",
   "metadata": {},
   "source": [
    "### Reddit API Scrape\n",
    "\n",
    "To use the below code and function you must create a reddit account [here](https://www.reddit.com/) and register for use of the API. The username and password will be from your general Reddit account while your client id, cleint secret, and user agent will be from the API token your create attached to the account."
   ]
  },
  {
   "cell_type": "code",
   "execution_count": 2,
   "metadata": {
    "ExecuteTime": {
     "end_time": "2020-03-14T16:11:04.781390Z",
     "start_time": "2020-03-14T16:11:04.773529Z"
    }
   },
   "outputs": [],
   "source": [
    "# enter your personal account info in accordingly\n",
    "reddit = praw.Reddit(\n",
    "    client_id=sens.client_id,\n",
    "    client_secret=sens.client_secret,\n",
    "    password=sens.password, \n",
    "    user_agent=sens.user_agent,\n",
    "    username=sens.username\n",
    ")"
   ]
  },
  {
   "cell_type": "markdown",
   "metadata": {},
   "source": [
    "The below function takes in the above-created praw instance, the subreddit you would like to scape as a string, and the number of latest posts you would like to collect as an integer. \n",
    "\n",
    "The output will print the number of comments successfully scaped and a dataframe with each row including the comments category, body, and title."
   ]
  },
  {
   "cell_type": "code",
   "execution_count": 3,
   "metadata": {
    "ExecuteTime": {
     "end_time": "2020-03-14T16:11:05.657019Z",
     "start_time": "2020-03-14T16:11:05.644941Z"
    }
   },
   "outputs": [],
   "source": [
    "def reddit_scraper(praw_object, sub_reddit, num_posts):\n",
    "    # create submissions object to iterate over\n",
    "    submissions = praw_object.subreddit(sub_reddit).hot(limit = num_posts)\n",
    "    \n",
    "    # create list of dictionaries for easy conversion to df\n",
    "    posts = []\n",
    "    comments = []\n",
    "    for i, post in enumerate(submissions):\n",
    "        comms = post.comments.list()\n",
    "        posts.append({\n",
    "            'categroy': post.subreddit,\n",
    "            'title': post.title,\n",
    "            'body': post.selftext,\n",
    "            'sub': sub_reddit,\n",
    "            'sub_post_id': i,\n",
    "            'n_comments': len(comms)\n",
    "        })\n",
    "        for com in comms:\n",
    "            comments.append({\n",
    "                'sub_post_id': i,\n",
    "                'text': com.body,\n",
    "                'likes': com.likes,\n",
    "            })\n",
    "    \n",
    "    # show number of articles collected and out df\n",
    "    print(f'You collected {len(posts)} reddit comments about {sub_reddit}')\n",
    "    return pd.DataFrame(posts), pd.DataFrame(comments)"
   ]
  },
  {
   "cell_type": "code",
   "execution_count": 4,
   "metadata": {
    "ExecuteTime": {
     "end_time": "2020-03-14T16:11:26.651578Z",
     "start_time": "2020-03-14T16:11:06.089137Z"
    },
    "scrolled": false
   },
   "outputs": [
    {
     "data": {
      "application/vnd.jupyter.widget-view+json": {
       "model_id": "cea0481dc5b94ec08be84c5930c436b8",
       "version_major": 2,
       "version_minor": 0
      },
      "text/plain": [
       "HBox(children=(IntProgress(value=0, max=6), HTML(value='')))"
      ]
     },
     "metadata": {},
     "output_type": "display_data"
    },
    {
     "name": "stdout",
     "output_type": "stream",
     "text": [
      "You collected 2 reddit comments about datascience\n",
      "You collected 2 reddit comments about datasciencejobs\n",
      "You collected 2 reddit comments about machinelearning\n",
      "You collected 2 reddit comments about machinelearningjobs\n",
      "You collected 2 reddit comments about learnmachinelearning\n",
      "You collected 2 reddit comments about learndatascience\n",
      "\n"
     ]
    }
   ],
   "source": [
    "subs = ['datascience', 'datasciencejobs', 'machinelearning', \n",
    "        'machinelearningjobs', 'learnmachinelearning',\n",
    "        'learndatascience']\n",
    "scraped = {}\n",
    "for sub in tqdm(subs):\n",
    "    scraped[sub] = reddit_scraper(reddit, sub, 2)\n",
    "\n",
    "# # scape 1,000 articles on history and consipracy to model\n",
    "# history_df = reddit_scapper(reddit, 'epicseven', 1_000)\n",
    "# conspiracy_df = reddit_scapper(reddit, 'lewdseven', 1_000)"
   ]
  },
  {
   "cell_type": "code",
   "execution_count": 5,
   "metadata": {
    "ExecuteTime": {
     "end_time": "2020-03-14T16:11:26.656968Z",
     "start_time": "2020-03-14T16:11:26.653721Z"
    }
   },
   "outputs": [],
   "source": [
    "posts_l = []\n",
    "comms_l = []\n",
    "for _, tup in scraped.items():\n",
    "    posts_l.append(tup[0])\n",
    "    comms_l.append(tup[1])"
   ]
  },
  {
   "cell_type": "code",
   "execution_count": 6,
   "metadata": {
    "ExecuteTime": {
     "end_time": "2020-03-14T16:11:26.664806Z",
     "start_time": "2020-03-14T16:11:26.659397Z"
    }
   },
   "outputs": [],
   "source": [
    "posts_df = pd.concat(posts_l)\n",
    "comms_df = pd.concat(comms_l)"
   ]
  },
  {
   "cell_type": "code",
   "execution_count": 7,
   "metadata": {
    "ExecuteTime": {
     "end_time": "2020-03-14T16:11:26.685089Z",
     "start_time": "2020-03-14T16:11:26.666745Z"
    }
   },
   "outputs": [
    {
     "data": {
      "text/html": [
       "<div>\n",
       "<style scoped>\n",
       "    .dataframe tbody tr th:only-of-type {\n",
       "        vertical-align: middle;\n",
       "    }\n",
       "\n",
       "    .dataframe tbody tr th {\n",
       "        vertical-align: top;\n",
       "    }\n",
       "\n",
       "    .dataframe thead th {\n",
       "        text-align: right;\n",
       "    }\n",
       "</style>\n",
       "<table border=\"1\" class=\"dataframe\">\n",
       "  <thead>\n",
       "    <tr style=\"text-align: right;\">\n",
       "      <th></th>\n",
       "      <th>categroy</th>\n",
       "      <th>title</th>\n",
       "      <th>body</th>\n",
       "      <th>sub</th>\n",
       "      <th>sub_post_id</th>\n",
       "      <th>n_comments</th>\n",
       "    </tr>\n",
       "  </thead>\n",
       "  <tbody>\n",
       "    <tr>\n",
       "      <th>0</th>\n",
       "      <td>datascience</td>\n",
       "      <td>Weekly Entering &amp; Transitioning Thread | 08 Ma...</td>\n",
       "      <td>_Bleep Bloop_. Welcome to this week's entering...</td>\n",
       "      <td>datascience</td>\n",
       "      <td>0</td>\n",
       "      <td>86</td>\n",
       "    </tr>\n",
       "    <tr>\n",
       "      <th>1</th>\n",
       "      <td>datascience</td>\n",
       "      <td>Open COVID-19 Dataset</td>\n",
       "      <td>I was frustrated with the maintenance issues i...</td>\n",
       "      <td>datascience</td>\n",
       "      <td>1</td>\n",
       "      <td>9</td>\n",
       "    </tr>\n",
       "    <tr>\n",
       "      <th>0</th>\n",
       "      <td>DataScienceJobs</td>\n",
       "      <td>[Hiring] Data Scientist/Senior Data Scientist ...</td>\n",
       "      <td></td>\n",
       "      <td>datasciencejobs</td>\n",
       "      <td>0</td>\n",
       "      <td>0</td>\n",
       "    </tr>\n",
       "    <tr>\n",
       "      <th>1</th>\n",
       "      <td>DataScienceJobs</td>\n",
       "      <td>I am hopeless in my job search. Would you mind...</td>\n",
       "      <td>&amp;#x200B;\\n\\nA little background about me - I a...</td>\n",
       "      <td>datasciencejobs</td>\n",
       "      <td>1</td>\n",
       "      <td>10</td>\n",
       "    </tr>\n",
       "    <tr>\n",
       "      <th>0</th>\n",
       "      <td>MachineLearning</td>\n",
       "      <td>[D] Machine Learning - WAYR (What Are You Read...</td>\n",
       "      <td>This is a place to share machine learning rese...</td>\n",
       "      <td>machinelearning</td>\n",
       "      <td>0</td>\n",
       "      <td>17</td>\n",
       "    </tr>\n",
       "    <tr>\n",
       "      <th>1</th>\n",
       "      <td>MachineLearning</td>\n",
       "      <td>[D] Advanced courses update</td>\n",
       "      <td>We have a [PhD level or Advanced courses](http...</td>\n",
       "      <td>machinelearning</td>\n",
       "      <td>1</td>\n",
       "      <td>75</td>\n",
       "    </tr>\n",
       "    <tr>\n",
       "      <th>0</th>\n",
       "      <td>MachineLearningJobs</td>\n",
       "      <td>[HIRING][REMOTE]Coding Specialist III at Navie...</td>\n",
       "      <td>What kind of candidates do we need?\\n\\n **Tool...</td>\n",
       "      <td>machinelearningjobs</td>\n",
       "      <td>0</td>\n",
       "      <td>0</td>\n",
       "    </tr>\n",
       "    <tr>\n",
       "      <th>1</th>\n",
       "      <td>MachineLearningJobs</td>\n",
       "      <td>[HIRING][REMOTE]Support Engineer</td>\n",
       "      <td>What kind of candidates do we need?\\n\\n **Tool...</td>\n",
       "      <td>machinelearningjobs</td>\n",
       "      <td>1</td>\n",
       "      <td>0</td>\n",
       "    </tr>\n",
       "    <tr>\n",
       "      <th>0</th>\n",
       "      <td>learnmachinelearning</td>\n",
       "      <td>I want to form a 3 to 4 person team of ML lear...</td>\n",
       "      <td>**SECOND EDIT**\\n\\nLol. Currently overwhelmed ...</td>\n",
       "      <td>learnmachinelearning</td>\n",
       "      <td>0</td>\n",
       "      <td>41</td>\n",
       "    </tr>\n",
       "    <tr>\n",
       "      <th>1</th>\n",
       "      <td>learnmachinelearning</td>\n",
       "      <td>A Geometric Intuition to Dimensionality Reduct...</td>\n",
       "      <td></td>\n",
       "      <td>learnmachinelearning</td>\n",
       "      <td>1</td>\n",
       "      <td>1</td>\n",
       "    </tr>\n",
       "    <tr>\n",
       "      <th>0</th>\n",
       "      <td>learndatascience</td>\n",
       "      <td>Data Science Case Studies - Why is Data Scienc...</td>\n",
       "      <td></td>\n",
       "      <td>learndatascience</td>\n",
       "      <td>0</td>\n",
       "      <td>0</td>\n",
       "    </tr>\n",
       "    <tr>\n",
       "      <th>1</th>\n",
       "      <td>learndatascience</td>\n",
       "      <td>The 5 Stages of Learning Data Science</td>\n",
       "      <td></td>\n",
       "      <td>learndatascience</td>\n",
       "      <td>1</td>\n",
       "      <td>0</td>\n",
       "    </tr>\n",
       "  </tbody>\n",
       "</table>\n",
       "</div>"
      ],
      "text/plain": [
       "               categroy                                              title  \\\n",
       "0           datascience  Weekly Entering & Transitioning Thread | 08 Ma...   \n",
       "1           datascience                              Open COVID-19 Dataset   \n",
       "0       DataScienceJobs  [Hiring] Data Scientist/Senior Data Scientist ...   \n",
       "1       DataScienceJobs  I am hopeless in my job search. Would you mind...   \n",
       "0       MachineLearning  [D] Machine Learning - WAYR (What Are You Read...   \n",
       "1       MachineLearning                        [D] Advanced courses update   \n",
       "0   MachineLearningJobs  [HIRING][REMOTE]Coding Specialist III at Navie...   \n",
       "1   MachineLearningJobs                   [HIRING][REMOTE]Support Engineer   \n",
       "0  learnmachinelearning  I want to form a 3 to 4 person team of ML lear...   \n",
       "1  learnmachinelearning  A Geometric Intuition to Dimensionality Reduct...   \n",
       "0      learndatascience  Data Science Case Studies - Why is Data Scienc...   \n",
       "1      learndatascience              The 5 Stages of Learning Data Science   \n",
       "\n",
       "                                                body                   sub  \\\n",
       "0  _Bleep Bloop_. Welcome to this week's entering...           datascience   \n",
       "1  I was frustrated with the maintenance issues i...           datascience   \n",
       "0                                                          datasciencejobs   \n",
       "1  &#x200B;\\n\\nA little background about me - I a...       datasciencejobs   \n",
       "0  This is a place to share machine learning rese...       machinelearning   \n",
       "1  We have a [PhD level or Advanced courses](http...       machinelearning   \n",
       "0  What kind of candidates do we need?\\n\\n **Tool...   machinelearningjobs   \n",
       "1  What kind of candidates do we need?\\n\\n **Tool...   machinelearningjobs   \n",
       "0  **SECOND EDIT**\\n\\nLol. Currently overwhelmed ...  learnmachinelearning   \n",
       "1                                                     learnmachinelearning   \n",
       "0                                                         learndatascience   \n",
       "1                                                         learndatascience   \n",
       "\n",
       "   sub_post_id  n_comments  \n",
       "0            0          86  \n",
       "1            1           9  \n",
       "0            0           0  \n",
       "1            1          10  \n",
       "0            0          17  \n",
       "1            1          75  \n",
       "0            0           0  \n",
       "1            1           0  \n",
       "0            0          41  \n",
       "1            1           1  \n",
       "0            0           0  \n",
       "1            1           0  "
      ]
     },
     "execution_count": 7,
     "metadata": {},
     "output_type": "execute_result"
    }
   ],
   "source": [
    "posts_df"
   ]
  },
  {
   "cell_type": "code",
   "execution_count": 8,
   "metadata": {
    "ExecuteTime": {
     "end_time": "2020-03-14T16:11:26.695503Z",
     "start_time": "2020-03-14T16:11:26.686784Z"
    }
   },
   "outputs": [
    {
     "data": {
      "text/html": [
       "<div>\n",
       "<style scoped>\n",
       "    .dataframe tbody tr th:only-of-type {\n",
       "        vertical-align: middle;\n",
       "    }\n",
       "\n",
       "    .dataframe tbody tr th {\n",
       "        vertical-align: top;\n",
       "    }\n",
       "\n",
       "    .dataframe thead th {\n",
       "        text-align: right;\n",
       "    }\n",
       "</style>\n",
       "<table border=\"1\" class=\"dataframe\">\n",
       "  <thead>\n",
       "    <tr style=\"text-align: right;\">\n",
       "      <th></th>\n",
       "      <th>sub_post_id</th>\n",
       "      <th>text</th>\n",
       "      <th>likes</th>\n",
       "    </tr>\n",
       "  </thead>\n",
       "  <tbody>\n",
       "    <tr>\n",
       "      <th>0</th>\n",
       "      <td>0</td>\n",
       "      <td>Learn SQL\\n\\nI’m always aghast at how many que...</td>\n",
       "      <td>None</td>\n",
       "    </tr>\n",
       "    <tr>\n",
       "      <th>1</th>\n",
       "      <td>0</td>\n",
       "      <td>I'm a high school student(10th grade, 16) who'...</td>\n",
       "      <td>None</td>\n",
       "    </tr>\n",
       "    <tr>\n",
       "      <th>2</th>\n",
       "      <td>0</td>\n",
       "      <td>Tomorrow I am having a coffee with a Senior Da...</td>\n",
       "      <td>None</td>\n",
       "    </tr>\n",
       "    <tr>\n",
       "      <th>3</th>\n",
       "      <td>0</td>\n",
       "      <td>What salary range to give to a fortune 500 com...</td>\n",
       "      <td>None</td>\n",
       "    </tr>\n",
       "    <tr>\n",
       "      <th>4</th>\n",
       "      <td>0</td>\n",
       "      <td>Upcoming (this May) graduate with two BS degre...</td>\n",
       "      <td>None</td>\n",
       "    </tr>\n",
       "    <tr>\n",
       "      <th>...</th>\n",
       "      <td>...</td>\n",
       "      <td>...</td>\n",
       "      <td>...</td>\n",
       "    </tr>\n",
       "    <tr>\n",
       "      <th>37</th>\n",
       "      <td>0</td>\n",
       "      <td>NLP is great. I do chatbots and stuff as a ML ...</td>\n",
       "      <td>None</td>\n",
       "    </tr>\n",
       "    <tr>\n",
       "      <th>38</th>\n",
       "      <td>0</td>\n",
       "      <td>Interested as well !</td>\n",
       "      <td>None</td>\n",
       "    </tr>\n",
       "    <tr>\n",
       "      <th>39</th>\n",
       "      <td>0</td>\n",
       "      <td>NLP is so fun. That's what I do for work. Let ...</td>\n",
       "      <td>None</td>\n",
       "    </tr>\n",
       "    <tr>\n",
       "      <th>40</th>\n",
       "      <td>0</td>\n",
       "      <td>Thanks.. can you suggest me some good resource...</td>\n",
       "      <td>None</td>\n",
       "    </tr>\n",
       "    <tr>\n",
       "      <th>41</th>\n",
       "      <td>1</td>\n",
       "      <td>I wrote an interactive article about how Linea...</td>\n",
       "      <td>None</td>\n",
       "    </tr>\n",
       "  </tbody>\n",
       "</table>\n",
       "<p>239 rows × 3 columns</p>\n",
       "</div>"
      ],
      "text/plain": [
       "    sub_post_id                                               text likes\n",
       "0             0  Learn SQL\\n\\nI’m always aghast at how many que...  None\n",
       "1             0  I'm a high school student(10th grade, 16) who'...  None\n",
       "2             0  Tomorrow I am having a coffee with a Senior Da...  None\n",
       "3             0  What salary range to give to a fortune 500 com...  None\n",
       "4             0  Upcoming (this May) graduate with two BS degre...  None\n",
       "..          ...                                                ...   ...\n",
       "37            0  NLP is great. I do chatbots and stuff as a ML ...  None\n",
       "38            0                               Interested as well !  None\n",
       "39            0  NLP is so fun. That's what I do for work. Let ...  None\n",
       "40            0  Thanks.. can you suggest me some good resource...  None\n",
       "41            1  I wrote an interactive article about how Linea...  None\n",
       "\n",
       "[239 rows x 3 columns]"
      ]
     },
     "execution_count": 8,
     "metadata": {},
     "output_type": "execute_result"
    }
   ],
   "source": [
    "comms_df"
   ]
  },
  {
   "cell_type": "code",
   "execution_count": 9,
   "metadata": {
    "ExecuteTime": {
     "end_time": "2020-03-14T16:11:26.703849Z",
     "start_time": "2020-03-14T16:11:26.697322Z"
    }
   },
   "outputs": [],
   "source": [
    "posts_df.to_csv('posts.csv')\n",
    "comms_df.to_csv('comms.csv')"
   ]
  },
  {
   "cell_type": "code",
   "execution_count": null,
   "metadata": {},
   "outputs": [],
   "source": []
  }
 ],
 "metadata": {
  "kernelspec": {
   "display_name": "Python [conda env:all_ds]",
   "language": "python",
   "name": "conda-env-all_ds-py"
  },
  "language_info": {
   "codemirror_mode": {
    "name": "ipython",
    "version": 3
   },
   "file_extension": ".py",
   "mimetype": "text/x-python",
   "name": "python",
   "nbconvert_exporter": "python",
   "pygments_lexer": "ipython3",
   "version": "3.7.4"
  }
 },
 "nbformat": 4,
 "nbformat_minor": 2
}
