{
 "cells": [
  {
   "cell_type": "markdown",
   "metadata": {},
   "source": [
    "# Data Collection & Preprocessing \n",
    "\n",
    "The code in this notebook is for the use of scaping the latest comment titles and body from a specific subreddit, converting to a dataframe, and exporting to a .csv file\n"
   ]
  },
  {
   "cell_type": "markdown",
   "metadata": {},
   "source": [
    "### Import Libaries"
   ]
  },
  {
   "cell_type": "code",
   "execution_count": 1,
   "metadata": {
    "ExecuteTime": {
     "end_time": "2020-03-15T18:35:15.075848Z",
     "start_time": "2020-03-15T18:35:14.689527Z"
    }
   },
   "outputs": [],
   "source": [
    "import pandas as pd\n",
    "import praw\n",
    "import sensitive as sens\n",
    "import db_sensitive as db_sens\n",
    "from tqdm.notebook import tqdm\n",
    "from sqlalchemy import create_engine, engine"
   ]
  },
  {
   "cell_type": "markdown",
   "metadata": {},
   "source": [
    "### Reddit API Scrape\n",
    "\n",
    "To use the below code and function you must create a reddit account [here](https://www.reddit.com/) and register for use of the API. The username and password will be from your general Reddit account while your client id, cleint secret, and user agent will be from the API token your create attached to the account."
   ]
  },
  {
   "cell_type": "code",
   "execution_count": 2,
   "metadata": {
    "ExecuteTime": {
     "end_time": "2020-03-15T18:35:15.232994Z",
     "start_time": "2020-03-15T18:35:15.228212Z"
    }
   },
   "outputs": [],
   "source": [
    "# enter your personal account info in accordingly\n",
    "reddit = praw.Reddit(\n",
    "    client_id=sens.client_id,\n",
    "    client_secret=sens.client_secret,\n",
    "    password=sens.password, \n",
    "    user_agent=sens.user_agent,\n",
    "    username=sens.username\n",
    ")"
   ]
  },
  {
   "cell_type": "markdown",
   "metadata": {},
   "source": [
    "The below function takes in the above-created praw instance, the subreddit you would like to scape as a string, and the number of latest posts you would like to collect as an integer. \n",
    "\n",
    "The output will print the number of comments successfully scaped and a dataframe with each row including the comments category, body, and title."
   ]
  },
  {
   "cell_type": "code",
   "execution_count": 3,
   "metadata": {
    "ExecuteTime": {
     "end_time": "2020-03-15T18:35:15.997466Z",
     "start_time": "2020-03-15T18:35:15.984576Z"
    }
   },
   "outputs": [],
   "source": [
    "def reddit_scraper(praw_object, sub_reddit, num_posts):\n",
    "    # create submissions object to iterate over\n",
    "    submissions = praw_object.subreddit(sub_reddit).hot(limit = num_posts)\n",
    "#     submission.comments.replace_more(limit=0) # flatten tree\n",
    "# comments = submission.comments.list()\n",
    "    \n",
    "    \n",
    "    # create list of dictionaries for easy conversion to df\n",
    "    posts = []\n",
    "    comments = []\n",
    "    for i, post in enumerate(submissions):\n",
    "        post.comments.replace_more(limit=0)\n",
    "        comms = post.comments.list()\n",
    "        posts.append({\n",
    "            'category': post.subreddit.display_name,\n",
    "            'title': post.title,\n",
    "            'body': post.selftext,\n",
    "            'sub': sub_reddit,\n",
    "            'sub_post_id': i,\n",
    "            'n_comments': len(comms)\n",
    "        })\n",
    "        for com in comms:\n",
    "            comments.append({\n",
    "                'sub_post_id': i,\n",
    "                'text': com.body,\n",
    "                'likes': com.likes,\n",
    "            })\n",
    "    \n",
    "    # show number of articles collected and out df\n",
    "    print(f'You collected {len(posts)} reddit comments about {sub_reddit}')\n",
    "    return pd.DataFrame(posts), pd.DataFrame(comments)"
   ]
  },
  {
   "cell_type": "code",
   "execution_count": 4,
   "metadata": {
    "ExecuteTime": {
     "end_time": "2020-03-15T18:41:42.385802Z",
     "start_time": "2020-03-15T18:35:16.397516Z"
    },
    "scrolled": false
   },
   "outputs": [
    {
     "data": {
      "application/vnd.jupyter.widget-view+json": {
       "model_id": "a93258aa1fad42ae9bb910817ff8c97c",
       "version_major": 2,
       "version_minor": 0
      },
      "text/plain": [
       "HBox(children=(IntProgress(value=0, max=6), HTML(value='')))"
      ]
     },
     "metadata": {},
     "output_type": "display_data"
    },
    {
     "name": "stdout",
     "output_type": "stream",
     "text": [
      "You collected 100 reddit comments about datascience\n",
      "You collected 100 reddit comments about datasciencejobs\n",
      "You collected 100 reddit comments about machinelearning\n",
      "You collected 100 reddit comments about machinelearningjobs\n",
      "You collected 100 reddit comments about learnmachinelearning\n",
      "You collected 100 reddit comments about learndatascience\n",
      "\n"
     ]
    }
   ],
   "source": [
    "subs = ['datascience', 'datasciencejobs', 'machinelearning', \n",
    "        'machinelearningjobs', 'learnmachinelearning',\n",
    "        'learndatascience']\n",
    "scraped = {}\n",
    "for sub in tqdm(subs):\n",
    "    scraped[sub] = reddit_scraper(reddit, sub, 100)\n",
    "\n",
    "# # scape 1,000 articles on history and consipracy to model\n",
    "# history_df = reddit_scapper(reddit, 'epicseven', 1_000)\n",
    "# conspiracy_df = reddit_scapper(reddit, 'lewdseven', 1_000)"
   ]
  },
  {
   "cell_type": "code",
   "execution_count": 5,
   "metadata": {
    "ExecuteTime": {
     "end_time": "2020-03-15T18:41:42.392930Z",
     "start_time": "2020-03-15T18:41:42.388492Z"
    }
   },
   "outputs": [],
   "source": [
    "posts_l = []\n",
    "comms_l = []\n",
    "for _, tup in scraped.items():\n",
    "    posts_l.append(tup[0])\n",
    "    comms_l.append(tup[1])"
   ]
  },
  {
   "cell_type": "code",
   "execution_count": 6,
   "metadata": {
    "ExecuteTime": {
     "end_time": "2020-03-15T18:41:42.403529Z",
     "start_time": "2020-03-15T18:41:42.395566Z"
    }
   },
   "outputs": [],
   "source": [
    "posts_df = pd.concat(posts_l)\n",
    "posts_df = posts_df.reset_index(drop=True)\n",
    "comms_df = pd.concat(comms_l)\n",
    "comms_df = comms_df.reset_index(drop=True)"
   ]
  },
  {
   "cell_type": "code",
   "execution_count": 7,
   "metadata": {
    "ExecuteTime": {
     "end_time": "2020-03-15T18:46:00.162076Z",
     "start_time": "2020-03-15T18:41:42.405342Z"
    }
   },
   "outputs": [],
   "source": [
    "# database connection\n",
    "db_config = {\n",
    "    'drivername':'postgresql',\n",
    "    'host': db_sens.host,\n",
    "    'password': db_sens.password,\n",
    "    'username': db_sens.username,\n",
    "    'port': db_sens.port,\n",
    "    'database': db_sens.database,\n",
    "}\n",
    "db_engine = create_engine(engine.url.URL(**db_config))\n",
    "posts_df.to_sql('posts', db_engine, if_exists='replace')\n",
    "comms_df.to_sql('comms', db_engine, if_exists='replace')"
   ]
  },
  {
   "cell_type": "markdown",
   "metadata": {
    "ExecuteTime": {
     "end_time": "2020-03-14T17:21:57.128083Z",
     "start_time": "2020-03-14T17:21:57.122814Z"
    }
   },
   "source": [
    "# test loading back in"
   ]
  },
  {
   "cell_type": "code",
   "execution_count": 8,
   "metadata": {
    "ExecuteTime": {
     "end_time": "2020-03-15T18:46:02.042370Z",
     "start_time": "2020-03-15T18:46:00.165455Z"
    }
   },
   "outputs": [
    {
     "name": "stdout",
     "output_type": "stream",
     "text": [
      "(2601, 4)\n"
     ]
    },
    {
     "data": {
      "text/html": [
       "<div>\n",
       "<style scoped>\n",
       "    .dataframe tbody tr th:only-of-type {\n",
       "        vertical-align: middle;\n",
       "    }\n",
       "\n",
       "    .dataframe tbody tr th {\n",
       "        vertical-align: top;\n",
       "    }\n",
       "\n",
       "    .dataframe thead th {\n",
       "        text-align: right;\n",
       "    }\n",
       "</style>\n",
       "<table border=\"1\" class=\"dataframe\">\n",
       "  <thead>\n",
       "    <tr style=\"text-align: right;\">\n",
       "      <th></th>\n",
       "      <th>index</th>\n",
       "      <th>sub_post_id</th>\n",
       "      <th>text</th>\n",
       "      <th>likes</th>\n",
       "    </tr>\n",
       "  </thead>\n",
       "  <tbody>\n",
       "    <tr>\n",
       "      <th>0</th>\n",
       "      <td>0</td>\n",
       "      <td>0</td>\n",
       "      <td>I'm currently interviewing for an entry-level ...</td>\n",
       "      <td>None</td>\n",
       "    </tr>\n",
       "    <tr>\n",
       "      <th>1</th>\n",
       "      <td>1</td>\n",
       "      <td>0</td>\n",
       "      <td>I am going to be starting a Computer Science M...</td>\n",
       "      <td>None</td>\n",
       "    </tr>\n",
       "    <tr>\n",
       "      <th>2</th>\n",
       "      <td>2</td>\n",
       "      <td>1</td>\n",
       "      <td>If you don’t call everything data science you ...</td>\n",
       "      <td>None</td>\n",
       "    </tr>\n",
       "    <tr>\n",
       "      <th>3</th>\n",
       "      <td>3</td>\n",
       "      <td>1</td>\n",
       "      <td>https://www.kdnuggets.com/2019/04/best-masters...</td>\n",
       "      <td>None</td>\n",
       "    </tr>\n",
       "    <tr>\n",
       "      <th>4</th>\n",
       "      <td>4</td>\n",
       "      <td>1</td>\n",
       "      <td>MSc Information Studies: Data Science track. I...</td>\n",
       "      <td>None</td>\n",
       "    </tr>\n",
       "  </tbody>\n",
       "</table>\n",
       "</div>"
      ],
      "text/plain": [
       "   index  sub_post_id                                               text likes\n",
       "0      0            0  I'm currently interviewing for an entry-level ...  None\n",
       "1      1            0  I am going to be starting a Computer Science M...  None\n",
       "2      2            1  If you don’t call everything data science you ...  None\n",
       "3      3            1  https://www.kdnuggets.com/2019/04/best-masters...  None\n",
       "4      4            1  MSc Information Studies: Data Science track. I...  None"
      ]
     },
     "execution_count": 8,
     "metadata": {},
     "output_type": "execute_result"
    }
   ],
   "source": [
    "comms_read = pd.read_sql_table('comms', db_engine)\n",
    "print(comms_read.shape)\n",
    "comms_read.head()"
   ]
  },
  {
   "cell_type": "code",
   "execution_count": 9,
   "metadata": {
    "ExecuteTime": {
     "end_time": "2020-03-15T18:46:03.530786Z",
     "start_time": "2020-03-15T18:46:02.044179Z"
    }
   },
   "outputs": [
    {
     "name": "stdout",
     "output_type": "stream",
     "text": [
      "(600, 7)\n"
     ]
    },
    {
     "data": {
      "text/html": [
       "<div>\n",
       "<style scoped>\n",
       "    .dataframe tbody tr th:only-of-type {\n",
       "        vertical-align: middle;\n",
       "    }\n",
       "\n",
       "    .dataframe tbody tr th {\n",
       "        vertical-align: top;\n",
       "    }\n",
       "\n",
       "    .dataframe thead th {\n",
       "        text-align: right;\n",
       "    }\n",
       "</style>\n",
       "<table border=\"1\" class=\"dataframe\">\n",
       "  <thead>\n",
       "    <tr style=\"text-align: right;\">\n",
       "      <th></th>\n",
       "      <th>index</th>\n",
       "      <th>category</th>\n",
       "      <th>title</th>\n",
       "      <th>body</th>\n",
       "      <th>sub</th>\n",
       "      <th>sub_post_id</th>\n",
       "      <th>n_comments</th>\n",
       "    </tr>\n",
       "  </thead>\n",
       "  <tbody>\n",
       "    <tr>\n",
       "      <th>0</th>\n",
       "      <td>0</td>\n",
       "      <td>datascience</td>\n",
       "      <td>Weekly Entering &amp; Transitioning Thread | 15 Ma...</td>\n",
       "      <td>_Bleep Bloop_. Welcome to this week's entering...</td>\n",
       "      <td>datascience</td>\n",
       "      <td>0</td>\n",
       "      <td>2</td>\n",
       "    </tr>\n",
       "    <tr>\n",
       "      <th>1</th>\n",
       "      <td>1</td>\n",
       "      <td>datascience</td>\n",
       "      <td>What are some good Data Science master degrees...</td>\n",
       "      <td>Basically, as the time says, however which deg...</td>\n",
       "      <td>datascience</td>\n",
       "      <td>1</td>\n",
       "      <td>32</td>\n",
       "    </tr>\n",
       "    <tr>\n",
       "      <th>2</th>\n",
       "      <td>2</td>\n",
       "      <td>datascience</td>\n",
       "      <td>From economics to data science</td>\n",
       "      <td>So I'm about to graduate with a bachelor's deg...</td>\n",
       "      <td>datascience</td>\n",
       "      <td>2</td>\n",
       "      <td>35</td>\n",
       "    </tr>\n",
       "    <tr>\n",
       "      <th>3</th>\n",
       "      <td>3</td>\n",
       "      <td>datascience</td>\n",
       "      <td>Kaggle M5 forecasting competition evaluation</td>\n",
       "      <td>I made a video on how to write the WRMSSE eval...</td>\n",
       "      <td>datascience</td>\n",
       "      <td>3</td>\n",
       "      <td>1</td>\n",
       "    </tr>\n",
       "    <tr>\n",
       "      <th>4</th>\n",
       "      <td>4</td>\n",
       "      <td>datascience</td>\n",
       "      <td>Modelling discount effect on sales volume</td>\n",
       "      <td>Most of my data science experience has been in...</td>\n",
       "      <td>datascience</td>\n",
       "      <td>4</td>\n",
       "      <td>0</td>\n",
       "    </tr>\n",
       "  </tbody>\n",
       "</table>\n",
       "</div>"
      ],
      "text/plain": [
       "   index     category                                              title  \\\n",
       "0      0  datascience  Weekly Entering & Transitioning Thread | 15 Ma...   \n",
       "1      1  datascience  What are some good Data Science master degrees...   \n",
       "2      2  datascience                     From economics to data science   \n",
       "3      3  datascience       Kaggle M5 forecasting competition evaluation   \n",
       "4      4  datascience          Modelling discount effect on sales volume   \n",
       "\n",
       "                                                body          sub  \\\n",
       "0  _Bleep Bloop_. Welcome to this week's entering...  datascience   \n",
       "1  Basically, as the time says, however which deg...  datascience   \n",
       "2  So I'm about to graduate with a bachelor's deg...  datascience   \n",
       "3  I made a video on how to write the WRMSSE eval...  datascience   \n",
       "4  Most of my data science experience has been in...  datascience   \n",
       "\n",
       "   sub_post_id  n_comments  \n",
       "0            0           2  \n",
       "1            1          32  \n",
       "2            2          35  \n",
       "3            3           1  \n",
       "4            4           0  "
      ]
     },
     "execution_count": 9,
     "metadata": {},
     "output_type": "execute_result"
    }
   ],
   "source": [
    "posts_read = pd.read_sql_table('posts', db_engine)\n",
    "print(posts_read.shape)\n",
    "posts_read.head()"
   ]
  },
  {
   "cell_type": "code",
   "execution_count": null,
   "metadata": {},
   "outputs": [],
   "source": []
  }
 ],
 "metadata": {
  "kernelspec": {
   "display_name": "Python [conda env:all_ds]",
   "language": "python",
   "name": "conda-env-all_ds-py"
  },
  "language_info": {
   "codemirror_mode": {
    "name": "ipython",
    "version": 3
   },
   "file_extension": ".py",
   "mimetype": "text/x-python",
   "name": "python",
   "nbconvert_exporter": "python",
   "pygments_lexer": "ipython3",
   "version": "3.7.4"
  }
 },
 "nbformat": 4,
 "nbformat_minor": 2
}
